{
 "cells": [
  {
   "cell_type": "code",
   "execution_count": null,
   "metadata": {
    "id": "Qcwd-8Bf8aLs"
   },
   "outputs": [],
   "source": [
    "!pip install flask_ngrok\n",
    "!pip install pyngrok"
   ]
  },
  {
   "cell_type": "code",
   "execution_count": null,
   "metadata": {
    "id": "iY5IgjTfFS0E"
   },
   "outputs": [],
   "source": [
    "!curl -s https://ngrok-agent.s3.amazonaws.com/ngrok.asc | sudo tee /etc/apt/trusted.gpg.d/ngrok.asc >/dev/null && echo \"deb https://ngrok-agent.s3.amazonaws.com buster main\" | sudo tee /etc/apt/sources.list.d/ngrok.list && sudo apt update && sudo apt install ngrok"
   ]
  },
  {
   "cell_type": "code",
   "execution_count": null,
   "metadata": {
    "colab": {
     "base_uri": "https://localhost:8080/"
    },
    "executionInfo": {
     "elapsed": 237,
     "status": "ok",
     "timestamp": 1680747709534,
     "user": {
      "displayName": "Muhle Khumalo",
      "userId": "00304780151672892165"
     },
     "user_tz": -480
    },
    "id": "_XhdKdCTFp2Q",
    "outputId": "a79b3a4f-4a0f-46ba-cbe7-05072421ac20"
   },
   "outputs": [
    {
     "name": "stdout",
     "output_type": "stream",
     "text": [
      "Authtoken saved to configuration file: /root/.config/ngrok/ngrok.yml\n"
     ]
    }
   ],
   "source": [
    "!ngrok config add-authtoken 2O08s1tb21f1be9nz6jXD9BGk1V_3T4otTGsUSC3pQcHrR31v"
   ]
  },
  {
   "cell_type": "code",
   "execution_count": 3,
   "metadata": {
    "colab": {
     "base_uri": "https://localhost:8080/"
    },
    "executionInfo": {
     "elapsed": 370,
     "status": "ok",
     "timestamp": 1680744943170,
     "user": {
      "displayName": "Muhle Khumalo",
      "userId": "00304780151672892165"
     },
     "user_tz": -480
    },
    "id": "DE3qAvi5IqEV",
    "outputId": "e8349772-9c70-45f8-f217-999dfd181291"
   },
   "outputs": [
    {
     "name": "stdout",
     "output_type": "stream",
     "text": [
      "app.ipynb  \u001b[34minstance\u001b[m\u001b[m/  main.py    main2.py   \u001b[34mwebsite\u001b[m\u001b[m/\n"
     ]
    }
   ],
   "source": [
    "ls"
   ]
  },
  {
   "cell_type": "code",
   "execution_count": 4,
   "metadata": {
    "colab": {
     "base_uri": "https://localhost:8080/"
    },
    "collapsed": true,
    "executionInfo": {
     "elapsed": 11137,
     "status": "ok",
     "timestamp": 1681716032381,
     "user": {
      "displayName": "Muhle Khumalo",
      "userId": "00304780151672892165"
     },
     "user_tz": -480
    },
    "id": "S42nXbVlB9x_",
    "jupyter": {
     "outputs_hidden": true
    },
    "outputId": "91fd84cd-53c1-477c-e27e-a9004f98c3db",
    "tags": []
   },
   "outputs": [
    {
     "ename": "ModuleNotFoundError",
     "evalue": "No module named 'google.colab'",
     "output_type": "error",
     "traceback": [
      "\u001b[0;31m---------------------------------------------------------------------------\u001b[0m",
      "\u001b[0;31mModuleNotFoundError\u001b[0m                       Traceback (most recent call last)",
      "\u001b[0;32m/var/folders/w4/fbz2zhr165g6wr5k09mtgl9r0000gn/T/ipykernel_38994/1408506528.py\u001b[0m in \u001b[0;36m<module>\u001b[0;34m\u001b[0m\n\u001b[0;32m----> 1\u001b[0;31m \u001b[0;32mfrom\u001b[0m \u001b[0mgoogle\u001b[0m\u001b[0;34m.\u001b[0m\u001b[0mcolab\u001b[0m \u001b[0;32mimport\u001b[0m \u001b[0mdrive\u001b[0m\u001b[0;34m\u001b[0m\u001b[0;34m\u001b[0m\u001b[0m\n\u001b[0m\u001b[1;32m      2\u001b[0m \u001b[0mdrive\u001b[0m\u001b[0;34m.\u001b[0m\u001b[0mmount\u001b[0m\u001b[0;34m(\u001b[0m\u001b[0;34m'/content/drive'\u001b[0m\u001b[0;34m)\u001b[0m\u001b[0;34m\u001b[0m\u001b[0;34m\u001b[0m\u001b[0m\n",
      "\u001b[0;31mModuleNotFoundError\u001b[0m: No module named 'google.colab'"
     ]
    }
   ],
   "source": [
    "from google.colab import drive\n",
    "drive.mount('/content/drive')"
   ]
  },
  {
   "cell_type": "code",
   "execution_count": 5,
   "metadata": {
    "id": "6K8_jN4MXbPu"
   },
   "outputs": [
    {
     "name": "stdout",
     "output_type": "stream",
     "text": [
      "Collecting Flask-SQLAlchemy\n",
      "  Using cached Flask_SQLAlchemy-3.0.3-py3-none-any.whl (24 kB)\n",
      "Requirement already satisfied: SQLAlchemy>=1.4.18 in /Users/musa.official/opt/anaconda3/lib/python3.9/site-packages (from Flask-SQLAlchemy) (1.4.39)\n",
      "Collecting Flask>=2.2\n",
      "  Using cached Flask-2.2.3-py3-none-any.whl (101 kB)\n",
      "Collecting Jinja2>=3.0\n",
      "  Using cached Jinja2-3.1.2-py3-none-any.whl (133 kB)\n",
      "Requirement already satisfied: click>=8.0 in /Users/musa.official/opt/anaconda3/lib/python3.9/site-packages (from Flask>=2.2->Flask-SQLAlchemy) (8.0.4)\n",
      "Requirement already satisfied: itsdangerous>=2.0 in /Users/musa.official/opt/anaconda3/lib/python3.9/site-packages (from Flask>=2.2->Flask-SQLAlchemy) (2.0.1)\n",
      "Collecting Werkzeug>=2.2.2\n",
      "  Using cached Werkzeug-2.2.3-py3-none-any.whl (233 kB)\n",
      "Requirement already satisfied: importlib-metadata>=3.6.0 in /Users/musa.official/opt/anaconda3/lib/python3.9/site-packages (from Flask>=2.2->Flask-SQLAlchemy) (4.11.3)\n",
      "Requirement already satisfied: greenlet!=0.4.17 in /Users/musa.official/opt/anaconda3/lib/python3.9/site-packages (from SQLAlchemy>=1.4.18->Flask-SQLAlchemy) (1.1.1)\n",
      "Requirement already satisfied: zipp>=0.5 in /Users/musa.official/opt/anaconda3/lib/python3.9/site-packages (from importlib-metadata>=3.6.0->Flask>=2.2->Flask-SQLAlchemy) (3.8.0)\n",
      "Requirement already satisfied: MarkupSafe>=2.0 in /Users/musa.official/opt/anaconda3/lib/python3.9/site-packages (from Jinja2>=3.0->Flask>=2.2->Flask-SQLAlchemy) (2.0.1)\n",
      "Collecting MarkupSafe>=2.0\n",
      "  Downloading MarkupSafe-2.1.2-cp39-cp39-macosx_10_9_x86_64.whl (13 kB)\n",
      "Installing collected packages: MarkupSafe, Werkzeug, Jinja2, Flask, Flask-SQLAlchemy\n",
      "  Attempting uninstall: MarkupSafe\n",
      "    Found existing installation: MarkupSafe 2.0.1\n",
      "    Uninstalling MarkupSafe-2.0.1:\n",
      "      Successfully uninstalled MarkupSafe-2.0.1\n",
      "  Attempting uninstall: Werkzeug\n",
      "    Found existing installation: Werkzeug 2.0.3\n",
      "    Uninstalling Werkzeug-2.0.3:\n",
      "      Successfully uninstalled Werkzeug-2.0.3\n",
      "  Attempting uninstall: Jinja2\n",
      "    Found existing installation: Jinja2 2.11.3\n",
      "    Uninstalling Jinja2-2.11.3:\n",
      "      Successfully uninstalled Jinja2-2.11.3\n",
      "  Attempting uninstall: Flask\n",
      "    Found existing installation: Flask 1.1.2\n",
      "    Uninstalling Flask-1.1.2:\n",
      "      Successfully uninstalled Flask-1.1.2\n",
      "\u001b[31mERROR: pip's dependency resolver does not currently take into account all the packages that are installed. This behaviour is the source of the following dependency conflicts.\n",
      "anaconda-project 0.11.1 requires ruamel-yaml, which is not installed.\u001b[0m\u001b[31m\n",
      "\u001b[0mSuccessfully installed Flask-2.2.3 Flask-SQLAlchemy-3.0.3 Jinja2-3.1.2 MarkupSafe-2.1.2 Werkzeug-2.2.3\n"
     ]
    }
   ],
   "source": [
    "!pip install -U Flask-SQLAlchemy"
   ]
  },
  {
   "cell_type": "code",
   "execution_count": 6,
   "metadata": {
    "id": "42bCDxzlX8Kd"
   },
   "outputs": [
    {
     "name": "stdout",
     "output_type": "stream",
     "text": [
      "Collecting ultralytics\n",
      "  Downloading ultralytics-8.0.81-py3-none-any.whl (527 kB)\n",
      "\u001b[2K     \u001b[90m━━━━━━━━━━━━━━━━━━━━━━━━━━━━━━━━━━━━━━━\u001b[0m \u001b[32m527.0/527.0 kB\u001b[0m \u001b[31m3.4 MB/s\u001b[0m eta \u001b[36m0:00:00\u001b[0ma \u001b[36m0:00:01\u001b[0m\n",
      "\u001b[?25hRequirement already satisfied: Pillow>=7.1.2 in /Users/musa.official/opt/anaconda3/lib/python3.9/site-packages (from ultralytics) (9.2.0)\n",
      "Collecting torchvision>=0.8.1\n",
      "  Downloading torchvision-0.15.1-cp39-cp39-macosx_10_9_x86_64.whl (1.5 MB)\n",
      "\u001b[2K     \u001b[90m━━━━━━━━━━━━━━━━━━━━━━━━━━━━━━━━━━━━━━━━\u001b[0m \u001b[32m1.5/1.5 MB\u001b[0m \u001b[31m3.8 MB/s\u001b[0m eta \u001b[36m0:00:00\u001b[0m00:01\u001b[0m00:01\u001b[0m\n",
      "\u001b[?25hRequirement already satisfied: psutil in /Users/musa.official/opt/anaconda3/lib/python3.9/site-packages (from ultralytics) (5.9.0)\n",
      "Collecting numpy>=1.21.6\n",
      "  Downloading numpy-1.24.2-cp39-cp39-macosx_10_9_x86_64.whl (19.8 MB)\n",
      "\u001b[2K     \u001b[90m━━━━━━━━━━━━━━━━━━━━━━━━━━━━━━━━━━━━━━━━\u001b[0m \u001b[32m19.8/19.8 MB\u001b[0m \u001b[31m4.9 MB/s\u001b[0m eta \u001b[36m0:00:00\u001b[0m00:01\u001b[0m00:01\u001b[0m\n",
      "\u001b[?25hRequirement already satisfied: matplotlib>=3.2.2 in /Users/musa.official/opt/anaconda3/lib/python3.9/site-packages (from ultralytics) (3.5.2)\n",
      "Collecting opencv-python>=4.6.0\n",
      "  Downloading opencv_python-4.7.0.72-cp37-abi3-macosx_10_16_x86_64.whl (53.9 MB)\n",
      "\u001b[2K     \u001b[90m━━━━━━━━━━━━━━━━━━━━━━━━━━━━━━━━━━━━━━━━\u001b[0m \u001b[32m53.9/53.9 MB\u001b[0m \u001b[31m5.5 MB/s\u001b[0m eta \u001b[36m0:00:00\u001b[0m00:01\u001b[0m00:01\u001b[0m\n",
      "\u001b[?25hRequirement already satisfied: pandas>=1.1.4 in /Users/musa.official/opt/anaconda3/lib/python3.9/site-packages (from ultralytics) (1.4.4)\n",
      "Requirement already satisfied: requests>=2.23.0 in /Users/musa.official/opt/anaconda3/lib/python3.9/site-packages (from ultralytics) (2.28.1)\n",
      "Requirement already satisfied: seaborn>=0.11.0 in /Users/musa.official/opt/anaconda3/lib/python3.9/site-packages (from ultralytics) (0.11.2)\n",
      "Collecting sentry-sdk\n",
      "  Downloading sentry_sdk-1.19.1-py2.py3-none-any.whl (199 kB)\n",
      "\u001b[2K     \u001b[90m━━━━━━━━━━━━━━━━━━━━━━━━━━━━━━━━━━━━━━━\u001b[0m \u001b[32m199.2/199.2 kB\u001b[0m \u001b[31m4.6 MB/s\u001b[0m eta \u001b[36m0:00:00\u001b[0m00:01\u001b[0m\n",
      "\u001b[?25hCollecting torch>=1.7.0\n",
      "  Downloading torch-2.0.0-cp39-none-macosx_10_9_x86_64.whl (139.8 MB)\n",
      "\u001b[2K     \u001b[90m━━━━━━━━━━━━━━━━━━━━━━━━━━━━━━━━━━━━━━━\u001b[0m \u001b[32m139.8/139.8 MB\u001b[0m \u001b[31m4.1 MB/s\u001b[0m eta \u001b[36m0:00:00\u001b[0m00:01\u001b[0m00:01\u001b[0m\n",
      "\u001b[?25hRequirement already satisfied: scipy>=1.4.1 in /Users/musa.official/opt/anaconda3/lib/python3.9/site-packages (from ultralytics) (1.9.1)\n",
      "Collecting thop>=0.1.1\n",
      "  Using cached thop-0.1.1.post2209072238-py3-none-any.whl (15 kB)\n",
      "Requirement already satisfied: tqdm>=4.64.0 in /Users/musa.official/opt/anaconda3/lib/python3.9/site-packages (from ultralytics) (4.64.1)\n",
      "Requirement already satisfied: PyYAML>=5.3.1 in /Users/musa.official/opt/anaconda3/lib/python3.9/site-packages (from ultralytics) (6.0)\n",
      "Requirement already satisfied: kiwisolver>=1.0.1 in /Users/musa.official/opt/anaconda3/lib/python3.9/site-packages (from matplotlib>=3.2.2->ultralytics) (1.4.2)\n",
      "Requirement already satisfied: python-dateutil>=2.7 in /Users/musa.official/opt/anaconda3/lib/python3.9/site-packages (from matplotlib>=3.2.2->ultralytics) (2.8.2)\n",
      "Requirement already satisfied: cycler>=0.10 in /Users/musa.official/opt/anaconda3/lib/python3.9/site-packages (from matplotlib>=3.2.2->ultralytics) (0.11.0)\n",
      "Requirement already satisfied: packaging>=20.0 in /Users/musa.official/opt/anaconda3/lib/python3.9/site-packages (from matplotlib>=3.2.2->ultralytics) (21.3)\n",
      "Requirement already satisfied: fonttools>=4.22.0 in /Users/musa.official/opt/anaconda3/lib/python3.9/site-packages (from matplotlib>=3.2.2->ultralytics) (4.25.0)\n",
      "Requirement already satisfied: pyparsing>=2.2.1 in /Users/musa.official/opt/anaconda3/lib/python3.9/site-packages (from matplotlib>=3.2.2->ultralytics) (3.0.9)\n",
      "Requirement already satisfied: pytz>=2020.1 in /Users/musa.official/opt/anaconda3/lib/python3.9/site-packages (from pandas>=1.1.4->ultralytics) (2022.1)\n",
      "Requirement already satisfied: urllib3<1.27,>=1.21.1 in /Users/musa.official/opt/anaconda3/lib/python3.9/site-packages (from requests>=2.23.0->ultralytics) (1.26.11)\n",
      "Requirement already satisfied: certifi>=2017.4.17 in /Users/musa.official/opt/anaconda3/lib/python3.9/site-packages (from requests>=2.23.0->ultralytics) (2022.9.24)\n",
      "Requirement already satisfied: charset-normalizer<3,>=2 in /Users/musa.official/opt/anaconda3/lib/python3.9/site-packages (from requests>=2.23.0->ultralytics) (2.0.4)\n",
      "Requirement already satisfied: idna<4,>=2.5 in /Users/musa.official/opt/anaconda3/lib/python3.9/site-packages (from requests>=2.23.0->ultralytics) (3.3)\n",
      "Requirement already satisfied: typing-extensions in /Users/musa.official/opt/anaconda3/lib/python3.9/site-packages (from torch>=1.7.0->ultralytics) (4.3.0)\n",
      "Requirement already satisfied: networkx in /Users/musa.official/opt/anaconda3/lib/python3.9/site-packages (from torch>=1.7.0->ultralytics) (2.8.4)\n",
      "Requirement already satisfied: sympy in /Users/musa.official/opt/anaconda3/lib/python3.9/site-packages (from torch>=1.7.0->ultralytics) (1.10.1)\n",
      "Requirement already satisfied: filelock in /Users/musa.official/opt/anaconda3/lib/python3.9/site-packages (from torch>=1.7.0->ultralytics) (3.6.0)\n",
      "Requirement already satisfied: jinja2 in /Users/musa.official/opt/anaconda3/lib/python3.9/site-packages (from torch>=1.7.0->ultralytics) (3.1.2)\n",
      "Requirement already satisfied: six>=1.5 in /Users/musa.official/opt/anaconda3/lib/python3.9/site-packages (from python-dateutil>=2.7->matplotlib>=3.2.2->ultralytics) (1.16.0)\n",
      "Requirement already satisfied: MarkupSafe>=2.0 in /Users/musa.official/opt/anaconda3/lib/python3.9/site-packages (from jinja2->torch>=1.7.0->ultralytics) (2.1.2)\n",
      "Requirement already satisfied: mpmath>=0.19 in /Users/musa.official/opt/anaconda3/lib/python3.9/site-packages (from sympy->torch>=1.7.0->ultralytics) (1.2.1)\n",
      "Installing collected packages: sentry-sdk, numpy, torch, opencv-python, torchvision, thop, ultralytics\n",
      "  Attempting uninstall: numpy\n",
      "    Found existing installation: numpy 1.21.5\n",
      "    Uninstalling numpy-1.21.5:\n",
      "      Successfully uninstalled numpy-1.21.5\n",
      "\u001b[31mERROR: pip's dependency resolver does not currently take into account all the packages that are installed. This behaviour is the source of the following dependency conflicts.\n",
      "daal4py 2021.6.0 requires daal==2021.4.0, which is not installed.\n",
      "numba 0.55.1 requires numpy<1.22,>=1.18, but you have numpy 1.24.2 which is incompatible.\u001b[0m\u001b[31m\n",
      "\u001b[0mSuccessfully installed numpy-1.24.2 opencv-python-4.7.0.72 sentry-sdk-1.19.1 thop-0.1.1.post2209072238 torch-2.0.0 torchvision-0.15.1 ultralytics-8.0.81\n"
     ]
    }
   ],
   "source": [
    "!pip install ultralytics"
   ]
  },
  {
   "cell_type": "code",
   "execution_count": null,
   "metadata": {
    "id": "xnHPS2uHYCkS"
   },
   "outputs": [],
   "source": [
    "!pip install pyngrok==4.1.1\n",
    "!ngrok authtoken '2O22JIm2QMStW0DtlrmsKNNKn08_6hbEeiX88smvjKwC6RLZm'"
   ]
  },
  {
   "cell_type": "code",
   "execution_count": 12,
   "metadata": {
    "colab": {
     "base_uri": "https://localhost:8080/"
    },
    "executionInfo": {
     "elapsed": 118755,
     "status": "ok",
     "timestamp": 1681716250489,
     "user": {
      "displayName": "Muhle Khumalo",
      "userId": "00304780151672892165"
     },
     "user_tz": -480
    },
    "id": "ii1fEiARUUYx",
    "outputId": "f2cdc40c-1dee-44cb-ab84-5161c6460ed5"
   },
   "outputs": [],
   "source": [
    "!python main.py"
   ]
  },
  {
   "cell_type": "code",
   "execution_count": null,
   "metadata": {
    "id": "oYz7xnX_OXiI"
   },
   "outputs": [],
   "source": [
    "import tensorflow as tf"
   ]
  },
  {
   "cell_type": "code",
   "execution_count": null,
   "metadata": {},
   "outputs": [],
   "source": []
  }
 ],
 "metadata": {
  "colab": {
   "authorship_tag": "ABX9TyP88lG6ii9zp89fzGKPFI5Y",
   "mount_file_id": "1m2RspT0m6l4EWCCtvfp1J3-GU0JMtPuD",
   "provenance": []
  },
  "gpuClass": "standard",
  "kernelspec": {
   "display_name": "Python 3 (ipykernel)",
   "language": "python",
   "name": "python3"
  },
  "language_info": {
   "codemirror_mode": {
    "name": "ipython",
    "version": 3
   },
   "file_extension": ".py",
   "mimetype": "text/x-python",
   "name": "python",
   "nbconvert_exporter": "python",
   "pygments_lexer": "ipython3",
   "version": "3.9.13"
  }
 },
 "nbformat": 4,
 "nbformat_minor": 4
}
